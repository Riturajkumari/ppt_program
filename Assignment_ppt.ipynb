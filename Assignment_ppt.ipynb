{
  "nbformat": 4,
  "nbformat_minor": 0,
  "metadata": {
    "colab": {
      "provenance": [],
      "authorship_tag": "ABX9TyPof4SbzDt15WXgJYJKB0gt",
      "include_colab_link": true
    },
    "kernelspec": {
      "name": "python3",
      "display_name": "Python 3"
    },
    "language_info": {
      "name": "python"
    }
  },
  "cells": [
    {
      "cell_type": "markdown",
      "metadata": {
        "id": "view-in-github",
        "colab_type": "text"
      },
      "source": [
        "<a href=\"https://colab.research.google.com/github/Riturajkumari/ppt_program/blob/main/Assignment_ppt.ipynb\" target=\"_parent\"><img src=\"https://colab.research.google.com/assets/colab-badge.svg\" alt=\"Open In Colab\"/></a>"
      ]
    },
    {
      "cell_type": "code",
      "execution_count": null,
      "metadata": {
        "id": "Xo2nhx7zs0Id"
      },
      "outputs": [],
      "source": []
    },
    {
      "cell_type": "markdown",
      "source": [
        "1. Write a Python program to reverse a string without using any built-in string reversal functions."
      ],
      "metadata": {
        "id": "XjbMXU0HtPXe"
      }
    },
    {
      "cell_type": "code",
      "source": [
        "a=str(input(\"Enter a string: \"))\n",
        "print(\"Reverse of the string is: \")\n",
        "print(a[::-1])"
      ],
      "metadata": {
        "colab": {
          "base_uri": "https://localhost:8080/"
        },
        "id": "N3jBk9XbtQFN",
        "outputId": "63f6fb90-b7f2-42c6-8f4d-4704c2430283"
      },
      "execution_count": null,
      "outputs": [
        {
          "output_type": "stream",
          "name": "stdout",
          "text": [
            "Enter a string: ritu\n",
            "Reverse of the string is: \n",
            "utir\n"
          ]
        }
      ]
    },
    {
      "cell_type": "markdown",
      "source": [
        "2. Implement a function to check if a given string is a palindrome."
      ],
      "metadata": {
        "id": "Gxht1r7Yt1r5"
      }
    },
    {
      "cell_type": "code",
      "source": [
        "# function which return reverse of a string\n",
        "\n",
        "def isPalindrome(s):\n",
        "\treturn s == s[::-1]\n",
        "\n",
        "\n",
        "# Driver code\n",
        "s = \"malayalam\"\n",
        "ans = isPalindrome(s)\n",
        "\n",
        "if ans:\n",
        "\tprint(\"Yes\")\n",
        "else:\n",
        "\tprint(\"No\")\n"
      ],
      "metadata": {
        "colab": {
          "base_uri": "https://localhost:8080/"
        },
        "id": "mAFXWkzottya",
        "outputId": "3a1c96c5-777a-4e29-fb82-713b84d70a4e"
      },
      "execution_count": null,
      "outputs": [
        {
          "output_type": "stream",
          "name": "stdout",
          "text": [
            "Yes\n"
          ]
        }
      ]
    },
    {
      "cell_type": "markdown",
      "source": [
        "3. Write a program to find the largest element in a given list."
      ],
      "metadata": {
        "id": "RxkC2BDat3Ue"
      }
    },
    {
      "cell_type": "code",
      "source": [
        "# Python program to find largest\n",
        "# number in a list\n",
        "\n",
        "# list of numbers\n",
        "list1 = [10, 20, 4, 45, 99]\n",
        "\n",
        "# sorting the list\n",
        "list1.sort()\n",
        "\n",
        "# printing the last element\n",
        "print(\"Largest element is:\", list1[-1])\n"
      ],
      "metadata": {
        "colab": {
          "base_uri": "https://localhost:8080/"
        },
        "id": "FDezoTc7t7SP",
        "outputId": "9a12ea17-2573-41e3-98cf-8aaea74e6a66"
      },
      "execution_count": null,
      "outputs": [
        {
          "output_type": "stream",
          "name": "stdout",
          "text": [
            "Largest element is: 99\n"
          ]
        }
      ]
    },
    {
      "cell_type": "code",
      "source": [
        "# Python program to find largest\n",
        "# number in a list\n",
        "\n",
        "# List of numbers\n",
        "list1 = [10, 20, 4, 45, 99]\n",
        "\n",
        "# Printing the maximum element\n",
        "print(\"Largest element is:\", max(list1))\n"
      ],
      "metadata": {
        "colab": {
          "base_uri": "https://localhost:8080/"
        },
        "id": "_I4pJEOLxksn",
        "outputId": "1288e476-befd-42f3-eb90-2823e30533dc"
      },
      "execution_count": null,
      "outputs": [
        {
          "output_type": "stream",
          "name": "stdout",
          "text": [
            "Largest element is: 99\n"
          ]
        }
      ]
    },
    {
      "cell_type": "code",
      "source": [
        "# Python program to find largest\n",
        "# number in a list\n",
        "\n",
        "# Creating an empty list\n",
        "list1 = []\n",
        "\n",
        "# asking number of elements to put in list\n",
        "num = int(input(\"Enter number of elements in list: \"))\n",
        "\n",
        "# Iterating till num to append elements in list\n",
        "for i in range(1, num + 1):\n",
        "\tele = int(input(\"Enter elements: \"))\n",
        "\tlist1.append(ele)\n",
        "\n",
        "# Printing maximum element\n",
        "print(\"Largest element is:\", max(list1))\n"
      ],
      "metadata": {
        "id": "l24uvGn2x5vH",
        "outputId": "8f980469-7c38-4101-86b3-264d4db6fd42",
        "colab": {
          "base_uri": "https://localhost:8080/"
        }
      },
      "execution_count": null,
      "outputs": [
        {
          "output_type": "stream",
          "name": "stdout",
          "text": [
            "Enter number of elements in list: 3\n",
            "Enter elements: 34\n",
            "Enter elements: 45\n",
            "Enter elements: 56\n",
            "Largest element is: 56\n"
          ]
        }
      ]
    },
    {
      "cell_type": "markdown",
      "source": [
        "4. Implement a function to count the occurrence of each element in a list."
      ],
      "metadata": {
        "id": "NgdtQiytt-f_"
      }
    },
    {
      "cell_type": "code",
      "source": [
        "import pandas as pd\n",
        "\n",
        "# declaring the list\n",
        "l = [1, 1, 2, 2, 2, 3, 3, 4, 4, 5, 5]\n",
        "\n",
        "count = pd.Series(l).value_counts()\n",
        "print(\"Element Count\")\n",
        "print(count)\n"
      ],
      "metadata": {
        "id": "xTJ6Lzzrt_Ha",
        "colab": {
          "base_uri": "https://localhost:8080/"
        },
        "outputId": "4030d451-82d0-4db3-a145-3a06df3c9225"
      },
      "execution_count": null,
      "outputs": [
        {
          "output_type": "stream",
          "name": "stdout",
          "text": [
            "Element Count\n",
            "2    3\n",
            "1    2\n",
            "3    2\n",
            "4    2\n",
            "5    2\n",
            "dtype: int64\n"
          ]
        }
      ]
    },
    {
      "cell_type": "code",
      "source": [
        "# Python code to count the number of occurrences\n",
        "def countX(lst, x):\n",
        "\tcount = 0\n",
        "\tfor ele in lst:\n",
        "\t\tif (ele == x):\n",
        "\t\t\tcount = count + 1\n",
        "\treturn count\n",
        "\n",
        "\n",
        "# Driver Code\n",
        "lst = [8, 6, 8, 10, 8, 20, 10, 8, 8]\n",
        "x = 8\n",
        "print('{} has occurred {} times'.format(x,\n",
        "\t\t\t\t\t\t\t\t\t\tcountX(lst, x)))\n"
      ],
      "metadata": {
        "colab": {
          "base_uri": "https://localhost:8080/"
        },
        "id": "vaUdfmPyRUg_",
        "outputId": "4a4ab904-9189-461c-e667-111f012cdd19"
      },
      "execution_count": null,
      "outputs": [
        {
          "output_type": "stream",
          "name": "stdout",
          "text": [
            "8 has occurred 5 times\n"
          ]
        }
      ]
    },
    {
      "cell_type": "markdown",
      "source": [
        "5. Write a Python program to find the second largest number in a list."
      ],
      "metadata": {
        "id": "41GS5cQGt_x-"
      }
    },
    {
      "cell_type": "code",
      "source": [
        "import numpy as np\n",
        "\n",
        "def find_second_largest(arr):\n",
        "\t# creating numpy array\n",
        "\tnp_arr = np.array(arr)\n",
        "\n",
        "\t# getting sorted indices\n",
        "\tsorted_indices = np.argsort(np_arr)\n",
        "\n",
        "\t# finding the second last index from sorted indices\n",
        "\tsecond_last_index = sorted_indices[-2]\n",
        "\n",
        "\t# returning the element at the second last index from original array\n",
        "\treturn np_arr[second_last_index]\n",
        "\n",
        "# example usage\n",
        "arr = [10, 20, 4, 45, 99]\n",
        "print(find_second_largest(arr)) # Output: 45\n"
      ],
      "metadata": {
        "id": "js-bl7j6uCIk",
        "colab": {
          "base_uri": "https://localhost:8080/"
        },
        "outputId": "041a58e4-55aa-49cb-99cd-67181e492709"
      },
      "execution_count": null,
      "outputs": [
        {
          "output_type": "stream",
          "name": "stdout",
          "text": [
            "45\n"
          ]
        }
      ]
    },
    {
      "cell_type": "markdown",
      "source": [
        "6. Implement a function to remove duplicate elements from a list."
      ],
      "metadata": {
        "id": "cKxVP4dwuE4c"
      }
    },
    {
      "cell_type": "code",
      "source": [
        "duplicate = [2, 4, 10, 20, 5, 2, 20, 4]\n",
        "print(list(set(duplicate)))\n"
      ],
      "metadata": {
        "id": "smfhAyLWuFej",
        "colab": {
          "base_uri": "https://localhost:8080/"
        },
        "outputId": "ca96431e-f649-4b00-bf04-b97949262520"
      },
      "execution_count": null,
      "outputs": [
        {
          "output_type": "stream",
          "name": "stdout",
          "text": [
            "[2, 4, 5, 10, 20]\n"
          ]
        }
      ]
    },
    {
      "cell_type": "markdown",
      "source": [
        "7. Write a program to calculate the factorial of a given number."
      ],
      "metadata": {
        "id": "c5QzzH68uHGQ"
      }
    },
    {
      "cell_type": "code",
      "source": [
        "\n",
        "# factorial of given number\n",
        "\n",
        "# Function to find factorial of given number\n",
        "def factorial(n):\n",
        "\n",
        "\tif n == 0:\n",
        "\t\treturn 1\n",
        "\n",
        "\treturn n * factorial(n-1)\n",
        "\n",
        "# Driver Code\n",
        "num = 5;\n",
        "print(\"Factorial of\", num, \"is\",\n",
        "factorial(num))\n",
        "\n",
        "# This code is contributed by Smitha Dinesh Semwal\n"
      ],
      "metadata": {
        "id": "jzalALOEuKJe",
        "colab": {
          "base_uri": "https://localhost:8080/"
        },
        "outputId": "a28ccc38-e031-40ac-ec35-e0326dff90b0"
      },
      "execution_count": null,
      "outputs": [
        {
          "output_type": "stream",
          "name": "stdout",
          "text": [
            "Factorial of 5 is 120\n"
          ]
        }
      ]
    },
    {
      "cell_type": "code",
      "source": [
        "\n",
        "# factorial of given number\n",
        "\n",
        "def factorial(n):\n",
        "\n",
        "\t# single line to find factorial\n",
        "\treturn 1 if (n == 1 or n == 0) else n * factorial(n - 1)\n",
        "\n",
        "\n",
        "# Driver Code\n",
        "num = 5\n",
        "print (\"Factorial of\", num, \"is\",\n",
        "\tfactorial(num))\n",
        "\n",
        "# This code is contributed\n",
        "# by Smitha Dinesh Semwal.\n"
      ],
      "metadata": {
        "colab": {
          "base_uri": "https://localhost:8080/"
        },
        "id": "GAo90WckSqaa",
        "outputId": "0af143b0-9dca-466e-f26c-07103a0dceee"
      },
      "execution_count": null,
      "outputs": [
        {
          "output_type": "stream",
          "name": "stdout",
          "text": [
            "Factorial of 5 is 120\n"
          ]
        }
      ]
    },
    {
      "cell_type": "markdown",
      "source": [
        "8. Implement a function to check if a given number is prime."
      ],
      "metadata": {
        "id": "sbNCOWhquN_E"
      }
    },
    {
      "cell_type": "code",
      "source": [
        "num = 11\n",
        "# If given number is greater than 1\n",
        "if num > 1:\n",
        "\t# Iterate from 2 to n / 2\n",
        "\tfor i in range(2, int(num/2)+1):\n",
        "\t\t# If num is divisible by any number between\n",
        "\t\t# 2 and n / 2, it is not prime\n",
        "\t\tif (num % i) == 0:\n",
        "\t\t\tprint(num, \"is not a prime number\")\n",
        "\t\t\tbreak\n",
        "\telse:\n",
        "\t\tprint(num, \"is a prime number\")\n",
        "else:\n",
        "\tprint(num, \"is not a prime number\")\n"
      ],
      "metadata": {
        "id": "_VQUoA2YuOig",
        "colab": {
          "base_uri": "https://localhost:8080/"
        },
        "outputId": "c3a5cce9-0798-496d-b238-c1ed9f621ebc"
      },
      "execution_count": null,
      "outputs": [
        {
          "output_type": "stream",
          "name": "stdout",
          "text": [
            "11 is a prime number\n"
          ]
        }
      ]
    },
    {
      "cell_type": "markdown",
      "source": [
        "9. Write a Python program to sort a list of integers in ascending order."
      ],
      "metadata": {
        "id": "fIhx1-CKuPKm"
      }
    },
    {
      "cell_type": "code",
      "source": [
        "# Python program to demonstrate to\n",
        "# sorting numbers in Ascending Order\n",
        "\n",
        "numbers = [1, 3, 4, 2]\n",
        "# Sorting list of Integers in ascending\n",
        "print(numbers.sort()) # None\n",
        "print(numbers)\t\t # [1, 2, 3, 4]\n",
        "\n",
        "print(sorted(numbers)) # [1, 2, 3, 4]\n",
        "print(numbers)\t\t # [1, 3, 4, 2]\n",
        "\n",
        "# Code contributed by Aryan Kumar\n"
      ],
      "metadata": {
        "id": "3e0mB-pWuR5E",
        "colab": {
          "base_uri": "https://localhost:8080/"
        },
        "outputId": "a50a153e-8a1c-4865-a3d0-4ae38e14f175"
      },
      "execution_count": null,
      "outputs": [
        {
          "output_type": "stream",
          "name": "stdout",
          "text": [
            "None\n",
            "[1, 2, 3, 4]\n",
            "[1, 2, 3, 4]\n",
            "[1, 2, 3, 4]\n"
          ]
        }
      ]
    },
    {
      "cell_type": "markdown",
      "source": [
        "10. Implement a function to find the sum of all numbers in a list."
      ],
      "metadata": {
        "id": "w0O8ExIauSet"
      }
    },
    {
      "cell_type": "code",
      "source": [
        "# Python program to find sum of elements in list\n",
        "\n",
        "total = 0\n",
        "\n",
        "# creating a list\n",
        "list1 = [11, 5, 17, 18, 23]\n",
        "\n",
        "# Iterate each element in list\n",
        "# and add them in variable total\n",
        "for ele in range(0, len(list1)):\n",
        "\ttotal = total + list1[ele]\n",
        "\n",
        "# printing total value\n",
        "print(\"Sum of all elements in given list: \", total)\n"
      ],
      "metadata": {
        "id": "BilyWvB-uVn1",
        "colab": {
          "base_uri": "https://localhost:8080/"
        },
        "outputId": "97362ee1-cf69-4e22-f200-fdc250310e4d"
      },
      "execution_count": null,
      "outputs": [
        {
          "output_type": "stream",
          "name": "stdout",
          "text": [
            "Sum of all elements in given list:  74\n"
          ]
        }
      ]
    },
    {
      "cell_type": "code",
      "source": [
        "# Python program to find sum of elements in list\n",
        "\n",
        "# creating a list\n",
        "list1 = [11, 5, 17, 18, 23]\n",
        "\n",
        "# using sum() function\n",
        "total = sum(list1)\n",
        "\n",
        "# printing total value\n",
        "print(\"Sum of all elements in given list: \", total)\n"
      ],
      "metadata": {
        "colab": {
          "base_uri": "https://localhost:8080/"
        },
        "id": "hqZrfOASTsdi",
        "outputId": "2e5b82cb-f537-4e9f-e829-6514046eddc7"
      },
      "execution_count": null,
      "outputs": [
        {
          "output_type": "stream",
          "name": "stdout",
          "text": [
            "Sum of all elements in given list:  74\n"
          ]
        }
      ]
    },
    {
      "cell_type": "markdown",
      "source": [
        "11. Write a program to find the common elements between two lists."
      ],
      "metadata": {
        "id": "r_2AhOrSuWI9"
      }
    },
    {
      "cell_type": "code",
      "source": [
        "def common_member(a, b):\n",
        "\tresult = [i for i in a if i in b]\n",
        "\treturn result\n",
        "\n",
        "a = [1, 2, 3, 4, 5]\n",
        "b = [5, 6, 7, 8, 9]\n",
        "\n",
        "print(\"The common elements in the two lists are: \")\n",
        "print(common_member(a, b))\n"
      ],
      "metadata": {
        "id": "fWzeK5BCuYUp",
        "colab": {
          "base_uri": "https://localhost:8080/"
        },
        "outputId": "f5b760e7-d80b-49b3-b7e4-374932fdc8a3"
      },
      "execution_count": null,
      "outputs": [
        {
          "output_type": "stream",
          "name": "stdout",
          "text": [
            "The common elements in the two lists are: \n",
            "[5]\n"
          ]
        }
      ]
    },
    {
      "cell_type": "code",
      "source": [
        "# Python program to find common elements in\n",
        "# both sets using intersection function in\n",
        "# sets\n",
        "\n",
        "\n",
        "# function\n",
        "def common_member(a, b):\n",
        "\ta_set = set(a)\n",
        "\tb_set = set(b)\n",
        "\n",
        "\t# check length\n",
        "\tif len(a_set.intersection(b_set)) > 0:\n",
        "\t\treturn(a_set.intersection(b_set))\n",
        "\telse:\n",
        "\t\treturn(\"no common elements\")\n",
        "\n",
        "\n",
        "a = [1, 2, 3, 4, 5]\n",
        "b = [5, 6, 7, 8, 9]\n",
        "print(common_member(a, b))\n",
        "\n",
        "a =[1, 2, 3, 4, 5]\n",
        "b =[6, 7, 8, 9]\n",
        "print(common_member(a, b))\n"
      ],
      "metadata": {
        "colab": {
          "base_uri": "https://localhost:8080/"
        },
        "id": "SFX1xMuFUPbg",
        "outputId": "7bece9ba-324e-43f5-aaee-7c8b5f9a486e"
      },
      "execution_count": null,
      "outputs": [
        {
          "output_type": "stream",
          "name": "stdout",
          "text": [
            "{5}\n",
            "no common elements\n"
          ]
        }
      ]
    },
    {
      "cell_type": "markdown",
      "source": [
        "12. Implement a function to check if a given string is an anagram of another string."
      ],
      "metadata": {
        "id": "vyQ1HbXNuYyL"
      }
    },
    {
      "cell_type": "code",
      "source": [
        "class Solution:\n",
        "\n",
        "\t# Function is to check whether two strings are anagram of each other or not.\n",
        "\tdef isAnagram(self, a, b):\n",
        "\n",
        "\t\tif sorted(a) == sorted(b):\n",
        "\t\t\treturn True\n",
        "\t\telse:\n",
        "\t\t\treturn False\n",
        "\n",
        "# {\n",
        "# Driver Code Starts\n",
        "\n",
        "if __name__ == '__main__':\n",
        "\n",
        "\ta = \"gram\"\n",
        "\tb = \"arm\"\n",
        "\n",
        "if(Solution().isAnagram(a, b)):\n",
        "\tprint(\"The two strings are anagram of each other\")\n",
        "else:\n",
        "\tprint(\"The two strings are not anagram of each other\")\n",
        "# } Driver Code Ends\n"
      ],
      "metadata": {
        "id": "I6yG_Sa3ubR2",
        "colab": {
          "base_uri": "https://localhost:8080/"
        },
        "outputId": "f785f94f-9fc4-4b9f-868d-63b65c5b1f32"
      },
      "execution_count": null,
      "outputs": [
        {
          "output_type": "stream",
          "name": "stdout",
          "text": [
            "The two strings are not anagram of each other\n"
          ]
        }
      ]
    },
    {
      "cell_type": "markdown",
      "source": [
        "13. Write a Python program to generate all permutations of a given string."
      ],
      "metadata": {
        "id": "Ickm4Gfsub7J"
      }
    },
    {
      "cell_type": "code",
      "source": [
        "def find_permutations(s):\n",
        "\tif len(s) == 1:\n",
        "\t\treturn [s]\n",
        "\telse:\n",
        "\t\tperms = []\n",
        "\t\tfor i, c in enumerate(s):\n",
        "\t\t\tfor perm in find_permutations(s[:i] + s[i+1:]):\n",
        "\t\t\t\tperms.append(c + perm)\n",
        "\t\treturn perms\n",
        "\n",
        "s = 'abc'\n",
        "print(find_permutations(s))\n"
      ],
      "metadata": {
        "id": "2ICUkHbDuebE",
        "colab": {
          "base_uri": "https://localhost:8080/"
        },
        "outputId": "ada56d50-b0fa-46c2-8ca6-c22b5d3f075a"
      },
      "execution_count": null,
      "outputs": [
        {
          "output_type": "stream",
          "name": "stdout",
          "text": [
            "['abc', 'acb', 'bac', 'bca', 'cab', 'cba']\n"
          ]
        }
      ]
    },
    {
      "cell_type": "markdown",
      "source": [
        "14. Implement a function to calculate the Fibonacci sequence up to a given number of terms."
      ],
      "metadata": {
        "id": "lzXOFqmtue3R"
      }
    },
    {
      "cell_type": "code",
      "source": [
        "# Function for nth fibonacci number - Space Optimisation\n",
        "# Taking 1st two fibonacci numbers as 0 and 1\n",
        "\n",
        "\n",
        "def fibonacci(n):\n",
        "\ta = 0\n",
        "\tb = 1\n",
        "\tif n < 0:\n",
        "\t\tprint(\"Incorrect input\")\n",
        "\telif n == 0:\n",
        "\t\treturn a\n",
        "\telif n == 1:\n",
        "\t\treturn b\n",
        "\telse:\n",
        "\t\tfor i in range(2, n+1):\n",
        "\t\t\tc = a + b\n",
        "\t\t\ta = b\n",
        "\t\t\tb = c\n",
        "\t\treturn b\n",
        "\n",
        "# Driver Program\n",
        "\n",
        "\n",
        "print(fibonacci(9))\n",
        "\n",
        "# This code is contributed by Saket Modi\n"
      ],
      "metadata": {
        "id": "QmDLkJdUuhQT",
        "colab": {
          "base_uri": "https://localhost:8080/"
        },
        "outputId": "e2f6209a-0040-4bbc-ee89-e47bf165be69"
      },
      "execution_count": null,
      "outputs": [
        {
          "output_type": "stream",
          "name": "stdout",
          "text": [
            "34\n"
          ]
        }
      ]
    },
    {
      "cell_type": "code",
      "source": [
        "# Fibonacci series using recursion\n",
        "def fibonacci(n):\n",
        "\tif n <= 1:\n",
        "\t\treturn n\n",
        "\treturn fibonacci(n-1) + fibonacci(n-2)\n",
        "\n",
        "\n",
        "if __name__ == \"__main__\":\n",
        "\tn = 5\n",
        "\tprint(n, \"th Fibonacci Number: \")\n",
        "\tprint(fibonacci(n))\n",
        "\n",
        "# This code is contributed by Manan Tyagi.\n"
      ],
      "metadata": {
        "colab": {
          "base_uri": "https://localhost:8080/"
        },
        "id": "tJDYLNrvVuDp",
        "outputId": "0a3ea86c-bc77-457f-ac0c-7cd43c599b4f"
      },
      "execution_count": null,
      "outputs": [
        {
          "output_type": "stream",
          "name": "stdout",
          "text": [
            "5 th Fibonacci Number: \n",
            "5\n"
          ]
        }
      ]
    },
    {
      "cell_type": "markdown",
      "source": [
        "15. Write a program to find the median of a list of numbers."
      ],
      "metadata": {
        "id": "EFBj3xcpuka8"
      }
    },
    {
      "cell_type": "code",
      "source": [
        "# Python3 code to demonstrate working of\n",
        "# Median of list\n",
        "# Using statistics.median()\n",
        "import statistics\n",
        "\n",
        "# initializing list\n",
        "test_list = [4, 5, 8, 9, 10, 17]\n",
        "\n",
        "# printing list\n",
        "print(\"The original list : \" + str(test_list))\n",
        "\n",
        "# Median of list\n",
        "# Using statistics.median()\n",
        "res = statistics.median(test_list)\n",
        "\n",
        "# Printing result\n",
        "print(\"Median of list is : \" + str(res))\n"
      ],
      "metadata": {
        "id": "vmKnww-KulQA",
        "colab": {
          "base_uri": "https://localhost:8080/"
        },
        "outputId": "4a54609a-2ace-44ee-a257-a320fbf9a611"
      },
      "execution_count": null,
      "outputs": [
        {
          "output_type": "stream",
          "name": "stdout",
          "text": [
            "The original list : [4, 5, 8, 9, 10, 17]\n",
            "Median of list is : 8.5\n"
          ]
        }
      ]
    },
    {
      "cell_type": "markdown",
      "source": [
        "16. Implement a function to check if a given list is sorted in non-decreasing order."
      ],
      "metadata": {
        "id": "6wIu6M5-ul0a"
      }
    },
    {
      "cell_type": "code",
      "source": [
        "# importing numpy library\n",
        "import numpy as np\n",
        "\n",
        "# initializing list\n",
        "test_list = [1, 4, 5, 8, 10]\n",
        "\n",
        "# convert list to numpy array\n",
        "test_arr = np.array(test_list)\n",
        "\n",
        "# check if the numpy array is sorted or not\n",
        "if np.all(np.diff(test_arr) >= 0):\n",
        "\tprint(\"Yes, List is sorted.\")\n",
        "else:\n",
        "\tprint(\"No, List is not sorted.\")\n"
      ],
      "metadata": {
        "id": "K059H0hSuonr",
        "colab": {
          "base_uri": "https://localhost:8080/"
        },
        "outputId": "0f30646e-4a75-40d7-d1b5-076a8218bf85"
      },
      "execution_count": null,
      "outputs": [
        {
          "output_type": "stream",
          "name": "stdout",
          "text": [
            "Yes, List is sorted.\n"
          ]
        }
      ]
    },
    {
      "cell_type": "markdown",
      "source": [
        "17. Write a Python program to find the intersection of two lists."
      ],
      "metadata": {
        "id": "iHK_JxllupJu"
      }
    },
    {
      "cell_type": "code",
      "source": [
        "# Python program to illustrate the intersection\n",
        "# of two lists in most simple way\n",
        "def intersection(lst1, lst2):\n",
        "\tlst3 = [value for value in lst1 if value in lst2]\n",
        "\treturn lst3\n",
        "\n",
        "# Driver Code\n",
        "lst1 = [4, 9, 1, 17, 11, 26, 28, 54, 69]\n",
        "lst2 = [9, 9, 74, 21, 45, 11, 63, 28, 26]\n",
        "print(intersection(lst1, lst2))\n"
      ],
      "metadata": {
        "id": "_V13Koeiuskl",
        "colab": {
          "base_uri": "https://localhost:8080/"
        },
        "outputId": "5189c5b1-1434-4fc8-dd9f-cf70c5933621"
      },
      "execution_count": null,
      "outputs": [
        {
          "output_type": "stream",
          "name": "stdout",
          "text": [
            "[9, 11, 26, 28]\n"
          ]
        }
      ]
    },
    {
      "cell_type": "code",
      "source": [
        "# Python program to illustrate the intersection\n",
        "# of two lists using set() method\n",
        "def intersection(lst1, lst2):\n",
        "\treturn list(set(lst1) & set(lst2))\n",
        "\n",
        "# Driver Code\n",
        "lst1 = [15, 9, 10, 56, 23, 78, 5, 4, 9]\n",
        "lst2 = [9, 4, 5, 36, 47, 26, 10, 45, 87]\n",
        "print(intersection(lst1, lst2))\n"
      ],
      "metadata": {
        "colab": {
          "base_uri": "https://localhost:8080/"
        },
        "id": "Uqcoz7XeWaR6",
        "outputId": "686587f6-8a52-4699-cd8b-3ca3e591f5e9"
      },
      "execution_count": null,
      "outputs": [
        {
          "output_type": "stream",
          "name": "stdout",
          "text": [
            "[9, 10, 4, 5]\n"
          ]
        }
      ]
    },
    {
      "cell_type": "markdown",
      "source": [
        "18. Implement a function to find the maximum subarray sum in a given list."
      ],
      "metadata": {
        "id": "EZTLP_LYutIM"
      }
    },
    {
      "cell_type": "code",
      "source": [
        "def find_max_subarray(alist, start, end):\n",
        "\n",
        "    max_ending_at_i = max_seen_so_far = alist[start]\n",
        "    max_left_at_i = max_left_so_far = start\n",
        "    max_right_so_far = start + 1\n",
        "    for i in range(start + 1, end):\n",
        "        if max_ending_at_i > 0:\n",
        "            max_ending_at_i += alist[i]\n",
        "        else:\n",
        "            max_ending_at_i = alist[i]\n",
        "            max_left_at_i = i\n",
        "        if max_ending_at_i > max_seen_so_far:\n",
        "            max_seen_so_far = max_ending_at_i\n",
        "            max_left_so_far = max_left_at_i\n",
        "            max_right_so_far = i + 1\n",
        "    return max_left_so_far, max_right_so_far, max_seen_so_far\n",
        "\n",
        "\n",
        "alist = input('Enter the list of numbers: ')\n",
        "alist = alist.split()\n",
        "alist = [int(x) for x in alist]\n",
        "start, end, maximum = find_max_subarray(alist, 0, len(alist))\n",
        "print('The maximum subarray starts at index {}, ends at index {} and has sum {}.'.format(start, end - 1, maximum))"
      ],
      "metadata": {
        "id": "MOmbE_jguvxZ",
        "colab": {
          "base_uri": "https://localhost:8080/"
        },
        "outputId": "328feb1e-a098-47e7-d90c-7965479e7849"
      },
      "execution_count": null,
      "outputs": [
        {
          "output_type": "stream",
          "name": "stdout",
          "text": [
            "Enter the list of numbers: 56\n",
            "The maximum subarray starts at index 0, ends at index 0 and has sum 56.\n"
          ]
        }
      ]
    },
    {
      "cell_type": "markdown",
      "source": [
        "19. Write a program to remove all vowels from a given string."
      ],
      "metadata": {
        "id": "RVKl0CiiuwTz"
      }
    },
    {
      "cell_type": "code",
      "source": [
        "# Python program to remove vowels from a string\n",
        "# Function to remove vowels\n",
        "\n",
        "# import the module for regular expression (re)\n",
        "import re\n",
        "def rem_vowel(string):\n",
        "\treturn (re.sub(\"[aeiouAEIOU]\",\"\",string))\n",
        "\n",
        "# Driver program\n",
        "string = \"GeeksforGeeks - A Computer Science Portal for Geeks\"\n",
        "print(rem_vowel(string))\n"
      ],
      "metadata": {
        "id": "GKzcR5NCuytq",
        "colab": {
          "base_uri": "https://localhost:8080/"
        },
        "outputId": "b30cb0c1-3d3c-4703-c8f8-4dc6e0fa94f9"
      },
      "execution_count": null,
      "outputs": [
        {
          "output_type": "stream",
          "name": "stdout",
          "text": [
            "GksfrGks -  Cmptr Scnc Prtl fr Gks\n"
          ]
        }
      ]
    },
    {
      "cell_type": "markdown",
      "source": [
        "20. Implement a function to reverse the order of words in a given sentence."
      ],
      "metadata": {
        "id": "cnscvEx7uzfK"
      }
    },
    {
      "cell_type": "code",
      "source": [
        "# Python code to reverse words\n",
        "\n",
        "s = \" Geeks for Geeks\"\n",
        "l = []\n",
        "# splitting the string\n",
        "s = s.split()\n",
        "for i in s:\n",
        "\t# reversing each word\n",
        "\tl.append(i[::-1])\n",
        "# printing string using join\n",
        "\n",
        "# function after reversing the\n",
        "# words\n",
        "\n",
        "\n",
        "print(\" \".join(l))\n"
      ],
      "metadata": {
        "id": "c_TFD4uou15R",
        "colab": {
          "base_uri": "https://localhost:8080/"
        },
        "outputId": "0da4551f-a557-49ff-bc70-2f2e9a2bc7ef"
      },
      "execution_count": null,
      "outputs": [
        {
          "output_type": "stream",
          "name": "stdout",
          "text": [
            "skeeG rof skeeG\n"
          ]
        }
      ]
    },
    {
      "cell_type": "markdown",
      "source": [
        "21. Write a Python program to check if two strings are anagrams of each other.\n"
      ],
      "metadata": {
        "id": "lOY43Ba5u2cm"
      }
    },
    {
      "cell_type": "code",
      "source": [
        "str1 = \"Race\"\n",
        "str2 = \"Care\"\n",
        "\n",
        "# convert both the strings into lowercase\n",
        "str1 = str1.lower()\n",
        "str2 = str2.lower()\n",
        "\n",
        "# check if length is same\n",
        "if(len(str1) == len(str2)):\n",
        "\n",
        "    # sort the strings\n",
        "    sorted_str1 = sorted(str1)\n",
        "    sorted_str2 = sorted(str2)\n",
        "\n",
        "    # if sorted char arrays are same\n",
        "    if(sorted_str1 == sorted_str2):\n",
        "        print(str1 + \" and \" + str2 + \" are anagram.\")\n",
        "    else:\n",
        "        print(str1 + \" and \" + str2 + \" are not anagram.\")\n",
        "\n",
        "else:\n",
        "    print(str1 + \" and \" + str2 + \" are not anagram.\")"
      ],
      "metadata": {
        "id": "3rajD-PTu7yQ",
        "colab": {
          "base_uri": "https://localhost:8080/"
        },
        "outputId": "609cf3ef-7697-46ea-827e-187f47549b6b"
      },
      "execution_count": null,
      "outputs": [
        {
          "output_type": "stream",
          "name": "stdout",
          "text": [
            "race and care are anagram.\n"
          ]
        }
      ]
    },
    {
      "cell_type": "markdown",
      "source": [
        "22. Implement a function to find the first non-repeating character in a string."
      ],
      "metadata": {
        "id": "xZLvMUWru8Zk"
      }
    },
    {
      "cell_type": "code",
      "source": [
        "# python3 implementation\n",
        "\n",
        "\n",
        "def FirstNonRepeat(s):\n",
        "\n",
        "\tfor i in s:\n",
        "\n",
        "\t\tif (s.find(i, (s.find(i)+1))) == -1:\n",
        "\n",
        "\t\t\tprint(\"First non-repeating character is: \", i)\n",
        "\n",
        "\t\t\tbreak\n",
        "\n",
        "\treturn\n",
        "\n",
        "# __main__\n",
        "\n",
        "\n",
        "s = 'RiturajRiturajs'\n",
        "\n",
        "FirstNonRepeat(s)\n"
      ],
      "metadata": {
        "id": "rzkKmRUku894",
        "colab": {
          "base_uri": "https://localhost:8080/"
        },
        "outputId": "801e0028-01c0-416a-9cc5-a42f8eefce43"
      },
      "execution_count": null,
      "outputs": [
        {
          "output_type": "stream",
          "name": "stdout",
          "text": [
            "First non-repeating character is:  s\n"
          ]
        }
      ]
    },
    {
      "cell_type": "code",
      "source": [],
      "metadata": {
        "id": "ifVMUzh3vCam"
      },
      "execution_count": null,
      "outputs": []
    },
    {
      "cell_type": "markdown",
      "source": [
        "23. Write a program to find the prime factors of a given number.\n",
        "."
      ],
      "metadata": {
        "id": "impGqxqovCwi"
      }
    },
    {
      "cell_type": "code",
      "source": [
        "def Prime_Factorial(n):\n",
        "    if n < 4:\n",
        "        return n\n",
        "    arr = []\n",
        "    while n > 1:\n",
        "        for i in range(2, int(2+n//2)):\n",
        "            if i == (1 + n // 2):\n",
        "                arr.append(n)\n",
        "                n = n // n\n",
        "            if n % i == 0:\n",
        "                arr.append(i)\n",
        "                n = n // i\n",
        "                break\n",
        "    return arr\n",
        "\n",
        "\n",
        "n = 210\n",
        "print(Prime_Factorial(n))"
      ],
      "metadata": {
        "id": "WUQkMnSpvF05",
        "colab": {
          "base_uri": "https://localhost:8080/"
        },
        "outputId": "190cf356-ec94-4561-e947-4e3af48ced81"
      },
      "execution_count": null,
      "outputs": [
        {
          "output_type": "stream",
          "name": "stdout",
          "text": [
            "[2, 3, 5, 7]\n"
          ]
        }
      ]
    },
    {
      "cell_type": "markdown",
      "source": [
        "24. Implement a function to check if a given number is a power of two.\n"
      ],
      "metadata": {
        "id": "Ords1nh2vGhp"
      }
    },
    {
      "cell_type": "code",
      "source": [
        "def is_power_of_two(n):\n",
        "    \"\"\"Return True if n is a power of two.\"\"\"\n",
        "    if n <= 0:\n",
        "        return False\n",
        "    else:\n",
        "        return n & (n - 1) == 0\n",
        "\n",
        "\n",
        "n = int(input('Enter a number: '))\n",
        "\n",
        "if is_power_of_two(n):\n",
        "    print('{} is a power of two.'.format(n))\n",
        "else:\n",
        "    print('{} is not a power of two.'.format(n))"
      ],
      "metadata": {
        "id": "xJ3uM6gmvI9y",
        "colab": {
          "base_uri": "https://localhost:8080/"
        },
        "outputId": "38e7ea24-535b-4da4-822e-5eeaca80cf29"
      },
      "execution_count": null,
      "outputs": [
        {
          "output_type": "stream",
          "name": "stdout",
          "text": [
            "Enter a number: 4\n",
            "4 is a power of two.\n"
          ]
        }
      ]
    },
    {
      "cell_type": "markdown",
      "source": [
        "25. Write a Python program to merge two sorted lists into a single sorted list"
      ],
      "metadata": {
        "id": "JbUojLf3vJrV"
      }
    },
    {
      "cell_type": "code",
      "source": [
        "a=[]\n",
        "c=[]\n",
        "n1=int(input(\"Enter number of elements:\"))\n",
        "for i in range(1,n1+1):\n",
        "    b=int(input(\"Enter element:\"))\n",
        "    a.append(b)\n",
        "n2=int(input(\"Enter number of elements:\"))\n",
        "for i in range(1,n2+1):\n",
        "    d=int(input(\"Enter element:\"))\n",
        "    c.append(d)\n",
        "new=a+c\n",
        "new.sort()\n",
        "print(\"Sorted list is:\",new)"
      ],
      "metadata": {
        "id": "wAM8yLLevKPR",
        "colab": {
          "base_uri": "https://localhost:8080/"
        },
        "outputId": "bb84bf46-5e63-469e-c17a-454ca480c886"
      },
      "execution_count": null,
      "outputs": [
        {
          "output_type": "stream",
          "name": "stdout",
          "text": [
            "Enter number of elements:3\n",
            "Enter element:4\n",
            "Enter element:5\n",
            "Enter element:6\n",
            "Enter number of elements:6\n",
            "Enter element:2\n",
            "Enter element:4\n",
            "Enter element:2\n",
            "Enter element:3\n",
            "Enter element:4\n",
            "Enter element:1\n",
            "Sorted list is: [1, 2, 2, 3, 4, 4, 4, 5, 6]\n"
          ]
        }
      ]
    },
    {
      "cell_type": "code",
      "source": [],
      "metadata": {
        "id": "PCKE1R5tQwFX"
      },
      "execution_count": null,
      "outputs": []
    },
    {
      "cell_type": "markdown",
      "source": [
        "26. Implement a function to find the mode of a list of numbers.\n"
      ],
      "metadata": {
        "id": "2ZSsZZvvvPo0"
      }
    },
    {
      "cell_type": "code",
      "source": [
        "# find mode\n",
        "import numpy as np\n",
        "def find_mode(np_array):\n",
        "  vals, counts = np.unique(np_array, return_counts=True)\n",
        "  index= np.argmax(counts)\n",
        "  return(vals[index])\n",
        "lst = np.array([600,470,300,500,170,430,300,500,300])\n",
        "\n",
        "print(find_mode(lst))"
      ],
      "metadata": {
        "id": "cV_Z1pOkvSf1",
        "colab": {
          "base_uri": "https://localhost:8080/"
        },
        "outputId": "4db038d7-5b76-4453-a756-43e1bfd046e5"
      },
      "execution_count": null,
      "outputs": [
        {
          "output_type": "stream",
          "name": "stdout",
          "text": [
            "300\n"
          ]
        }
      ]
    },
    {
      "cell_type": "code",
      "source": [
        "import statistics\n",
        "lst = np.array([600,470,300,500,170,430,300,500,300])\n",
        "print(statistics.mode(lst))"
      ],
      "metadata": {
        "colab": {
          "base_uri": "https://localhost:8080/"
        },
        "id": "o2vttfP5StNI",
        "outputId": "60131cf2-d1cd-4768-e454-227d9f855c5b"
      },
      "execution_count": null,
      "outputs": [
        {
          "output_type": "stream",
          "name": "stdout",
          "text": [
            "300\n"
          ]
        }
      ]
    },
    {
      "cell_type": "markdown",
      "source": [
        "27. Write a program to find the greatest common divisor (GCD) of two numbers.\n"
      ],
      "metadata": {
        "id": "B2dj9pMXvTCU"
      }
    },
    {
      "cell_type": "code",
      "source": [
        "num1 = 36\n",
        "num2 = 60\n",
        "gcd = 1\n",
        "\n",
        "for i in range(1, min(num1, num2)):\n",
        "    if num1 % i == 0 and num2 % i == 0:\n",
        "        gcd = i\n",
        "print(\"GCD of\", num1, \"and\", num2, \"is\", gcd)"
      ],
      "metadata": {
        "id": "UW5qOdTTvU3V",
        "colab": {
          "base_uri": "https://localhost:8080/"
        },
        "outputId": "5661017c-8441-4c71-a654-c08ee3bbc93e"
      },
      "execution_count": null,
      "outputs": [
        {
          "output_type": "stream",
          "name": "stdout",
          "text": [
            "GCD of 36 and 60 is 12\n"
          ]
        }
      ]
    },
    {
      "cell_type": "code",
      "source": [
        "    # create a program to print the gcd of two number in python using the math.gcd() function.\n",
        "import math\n",
        "print(\" GCD of two number 0 and 0 is \", math.gcd(0, 0)) #math.gcd(a, b), a and b are the two integer number\n",
        "print(\" GCD of two number 0 and 48 is \", math.gcd(0, 48))\n",
        "a = 60 # assign the number to variable a\n",
        "b = 48 # assign the number to variable b\n",
        "print(\" GCD of two number 60 and 48 is \", math.gcd(a, b)) # pass the variable a and b to math.gcd() function.\n",
        "print(\" GCD of two number 48 and -12 is \", math.gcd(48, -12)) # pass the integer number\n",
        "print(\" GCD of two number -24 and -18 is \", math.gcd(-24, -18))\n",
        "print(\" GCD of two number -60 and 48 is \", math.gcd(-60, 48))"
      ],
      "metadata": {
        "colab": {
          "base_uri": "https://localhost:8080/"
        },
        "id": "z1KgU3DyTlV4",
        "outputId": "6976891b-28f4-456e-956c-3b8296cb0bef"
      },
      "execution_count": null,
      "outputs": [
        {
          "output_type": "stream",
          "name": "stdout",
          "text": [
            " GCD of two number 0 and 0 is  0\n",
            " GCD of two number 0 and 48 is  48\n",
            " GCD of two number 60 and 48 is  12\n",
            " GCD of two number 48 and -12 is  12\n",
            " GCD of two number -24 and -18 is  6\n",
            " GCD of two number -60 and 48 is  12\n"
          ]
        }
      ]
    },
    {
      "cell_type": "markdown",
      "source": [
        "28. Implement a function to calculate the square root of a given number.\n"
      ],
      "metadata": {
        "id": "DbrAhVXTvVVM"
      }
    },
    {
      "cell_type": "code",
      "source": [
        "import math\n",
        "x = 16\n",
        "y = math.sqrt(x)\n",
        "print(y)"
      ],
      "metadata": {
        "id": "h8AjHlouvW-T",
        "colab": {
          "base_uri": "https://localhost:8080/"
        },
        "outputId": "f50dcae3-adf6-41cd-b94d-6b9cb712ba1b"
      },
      "execution_count": null,
      "outputs": [
        {
          "output_type": "stream",
          "name": "stdout",
          "text": [
            "4.0\n"
          ]
        }
      ]
    },
    {
      "cell_type": "markdown",
      "source": [
        "29. Write a Python program to check if a given string is a valid palindrome ignoring non-\n",
        "alphanumeric characters."
      ],
      "metadata": {
        "id": "3AZ4biK1vXad"
      }
    },
    {
      "cell_type": "code",
      "source": [
        "# function which return reverse of a string\n",
        "\n",
        "def isPalindrome(s):\n",
        "\treturn s == s[::-1]\n",
        "\n",
        "\n",
        "# Driver code\n",
        "s = \"malayalam\"\n",
        "ans = isPalindrome(s)\n",
        "\n",
        "if ans:\n",
        "\tprint(\"Yes\")\n",
        "else:\n",
        "\tprint(\"No\")\n"
      ],
      "metadata": {
        "id": "K0iwou8EvX_8",
        "colab": {
          "base_uri": "https://localhost:8080/"
        },
        "outputId": "93001cba-4a6f-4fac-97f3-c89a780324f6"
      },
      "execution_count": null,
      "outputs": [
        {
          "output_type": "stream",
          "name": "stdout",
          "text": [
            "Yes\n"
          ]
        }
      ]
    },
    {
      "cell_type": "code",
      "source": [
        "# Python program to check\n",
        "# if a string is palindrome\n",
        "# or not\n",
        "\n",
        "x = \"malayalam\"\n",
        "\n",
        "w = \"\"\n",
        "for i in x:\n",
        "\tw = i + w\n",
        "\n",
        "if (x == w):\n",
        "\tprint(\"Yes\")\n",
        "else:\n",
        "\tprint(\"No\")\n"
      ],
      "metadata": {
        "colab": {
          "base_uri": "https://localhost:8080/"
        },
        "id": "72Fc7mpIUbtg",
        "outputId": "b8a24b99-7b74-499b-dd4d-6484e4765106"
      },
      "execution_count": null,
      "outputs": [
        {
          "output_type": "stream",
          "name": "stdout",
          "text": [
            "Yes\n"
          ]
        }
      ]
    },
    {
      "cell_type": "markdown",
      "source": [
        "30. Implement a function to find the minimum element in a rotated sorted list."
      ],
      "metadata": {
        "id": "MM4CxyzKvcul"
      }
    },
    {
      "cell_type": "code",
      "source": [
        "from typing import List\n",
        "\n",
        "def find_min(arr: List[int]) -> int:\n",
        "\treturn min(arr)\n",
        "\n",
        "v = [5, 6, 1, 2, 3, 4]\n",
        "print(\"The Minimum Element in the vector is: \", find_min(v))\n"
      ],
      "metadata": {
        "id": "I9DWuW85vdu0",
        "colab": {
          "base_uri": "https://localhost:8080/"
        },
        "outputId": "8ffa7e54-7e74-43af-cb93-928434569dbb"
      },
      "execution_count": null,
      "outputs": [
        {
          "output_type": "stream",
          "name": "stdout",
          "text": [
            "The Minimum Element in the vector is:  1\n"
          ]
        }
      ]
    },
    {
      "cell_type": "code",
      "source": [],
      "metadata": {
        "id": "yksBza9lvhbd"
      },
      "execution_count": null,
      "outputs": []
    },
    {
      "cell_type": "markdown",
      "source": [
        "31. Write a program to find the sum of all even numbers in a list.\n"
      ],
      "metadata": {
        "id": "a3OcpgKDvhq5"
      }
    },
    {
      "cell_type": "code",
      "source": [
        "#Python Program to Calculate\n",
        "# Sum of Even Numbers from 1 to N\n",
        "\n",
        "max = int(input(\"Please enter the maximum value: \"))\n",
        "total = 0\n",
        "\n",
        "for num in range(1, max+1):\n",
        "    if(num % 2 == 0):\n",
        "        print(\"{0}\".format(num))\n",
        "        total = total + num\n",
        "\n",
        "print(\"The Sum of Even Numbers from 1 to {0} = {1}\".format(num, total))"
      ],
      "metadata": {
        "id": "eDQqFpF3v047",
        "colab": {
          "base_uri": "https://localhost:8080/"
        },
        "outputId": "f42d0d6f-0d0a-4078-dd52-7460a57e47b3"
      },
      "execution_count": null,
      "outputs": [
        {
          "output_type": "stream",
          "name": "stdout",
          "text": [
            "Please enter the maximum value: 10\n",
            "2\n",
            "4\n",
            "6\n",
            "8\n",
            "10\n",
            "The Sum of Even Numbers from 1 to 10 = 30\n"
          ]
        }
      ]
    },
    {
      "cell_type": "markdown",
      "source": [
        "32. Implement a function to calculate the power of a number using recursion.\n"
      ],
      "metadata": {
        "id": "KVyGXSXJvlsR"
      }
    },
    {
      "cell_type": "code",
      "source": [
        "# Python3 code to recursively find\n",
        "# the power of a number\n",
        "\n",
        "# Recursive function to find N^P.\n",
        "def power(N, P):\n",
        "\n",
        "\t# If power is 0 then return 1\n",
        "\t# if condition is true\n",
        "\t# only then it will enter it,\n",
        "\t# otherwise not\n",
        "\tif P == 0:\n",
        "\t\treturn 1\n",
        "\n",
        "\t# Recurrence relation\n",
        "\treturn (N*power(N, P-1))\n",
        "\n",
        "\n",
        "# Driver code\n",
        "if __name__ == '__main__':\n",
        "\tN = 5\n",
        "\tP = 2\n",
        "\n",
        "\tprint(power(N, P))\n"
      ],
      "metadata": {
        "id": "xYKY7661vqaL",
        "colab": {
          "base_uri": "https://localhost:8080/"
        },
        "outputId": "a59367c9-fddd-4f7a-88cc-3d6b9ba5c58d"
      },
      "execution_count": null,
      "outputs": [
        {
          "output_type": "stream",
          "name": "stdout",
          "text": [
            "25\n"
          ]
        }
      ]
    },
    {
      "cell_type": "code",
      "source": [],
      "metadata": {
        "id": "UGXz4RtHvrK1"
      },
      "execution_count": null,
      "outputs": []
    },
    {
      "cell_type": "markdown",
      "source": [
        "33. Write a Python program to remove duplicates from a list while preserving the order.\n"
      ],
      "metadata": {
        "id": "GsCn8YTbvsJ_"
      }
    },
    {
      "cell_type": "code",
      "source": [
        "a = [2, 3, 3, 2, 5, 4, 4, 6]\n",
        "\n",
        "b = []\n",
        "\n",
        "for i in a:\n",
        "    # Add to the new list\n",
        "    # only if not present\n",
        "    if i not in b:\n",
        "        b.append(i)\n",
        "\n",
        "print(b)"
      ],
      "metadata": {
        "id": "9HChoQrBvi3V",
        "colab": {
          "base_uri": "https://localhost:8080/"
        },
        "outputId": "27f52943-83b1-4b1a-b8d8-1aad2398fed5"
      },
      "execution_count": null,
      "outputs": [
        {
          "output_type": "stream",
          "name": "stdout",
          "text": [
            "[2, 3, 5, 4, 6]\n"
          ]
        }
      ]
    },
    {
      "cell_type": "code",
      "source": [],
      "metadata": {
        "id": "lAYX-SKjvxyp"
      },
      "execution_count": null,
      "outputs": []
    },
    {
      "cell_type": "markdown",
      "source": [
        "34. Implement a function to find the longest common prefix among a list of strings."
      ],
      "metadata": {
        "id": "zKJ74aqWvx_G"
      }
    },
    {
      "cell_type": "code",
      "source": [
        "\n",
        "# Function to find the longest common prefix between two strings\n",
        "def LCP(X, Y):\n",
        "\n",
        "    i = j = 0\n",
        "    while i < len(X) and j < len(Y):\n",
        "        if X[i] != Y[j]:\n",
        "            break\n",
        "        i = i + 1\n",
        "        j = j + 1\n",
        "\n",
        "    return X[:i]\n",
        "\n",
        "\n",
        "# Function to find the longest common prefix (LCP) between a given set of strings\n",
        "def findLCP(words):\n",
        "\n",
        "    prefix = words[0]\n",
        "    for s in words:\n",
        "        prefix = LCP(prefix, s)\n",
        "    return prefix\n",
        "\n",
        "\n",
        "if __name__ == '__main__':\n",
        "\n",
        "    words = ['techie delight', 'tech', 'techie', 'technology', 'technical']\n",
        "    print('The longest common prefix is', findLCP(words))\n"
      ],
      "metadata": {
        "id": "MEmFk8MtvyjW",
        "colab": {
          "base_uri": "https://localhost:8080/"
        },
        "outputId": "20317b70-b14f-44fe-9dc6-0d6558531ef0"
      },
      "execution_count": null,
      "outputs": [
        {
          "output_type": "stream",
          "name": "stdout",
          "text": [
            "The longest common prefix is tech\n"
          ]
        }
      ]
    },
    {
      "cell_type": "markdown",
      "source": [
        "35. Write a program to check if a given number is a perfect square.\n"
      ],
      "metadata": {
        "id": "Uj8T9jo4v5s7"
      }
    },
    {
      "cell_type": "code",
      "source": [
        "import math\n",
        "num = 25\n",
        "sqrt_num = math.sqrt(num)\n",
        "if sqrt_num.is_integer():\n",
        "\n",
        "  print(\"The number is a perfect square\")\n",
        "\n",
        "\n",
        "else:\n",
        "  print(\"The number is not a perfect square\")"
      ],
      "metadata": {
        "id": "rz0Q260kv9fl",
        "colab": {
          "base_uri": "https://localhost:8080/"
        },
        "outputId": "448adba4-75bc-44aa-ebdf-b94416d5d2c8"
      },
      "execution_count": null,
      "outputs": [
        {
          "output_type": "stream",
          "name": "stdout",
          "text": [
            "The number is a perfect square\n"
          ]
        }
      ]
    },
    {
      "cell_type": "code",
      "source": [
        "num = 25\n",
        "sqrt_num = num // 2\n",
        "while sqrt_num * sqrt_num > num:\n",
        "  sqrt_num = (sqrt_num + num // sqrt_num) // 2\n",
        "if sqrt_num * sqrt_num == num:\n",
        "  print(\"The number is a perfect square\")\n",
        "else:\n",
        "  print(\"The number is not a perfect square\")"
      ],
      "metadata": {
        "colab": {
          "base_uri": "https://localhost:8080/"
        },
        "id": "1HRnFLjAdU_F",
        "outputId": "748dd9be-b0b4-46f5-9598-54dd94120300"
      },
      "execution_count": null,
      "outputs": [
        {
          "output_type": "stream",
          "name": "stdout",
          "text": [
            "The number is a perfect square\n"
          ]
        }
      ]
    },
    {
      "cell_type": "markdown",
      "source": [
        "36. Implement a function to calculate the product of all elements in a list.\n",
        "."
      ],
      "metadata": {
        "id": "oh2uM-iYv-Ix"
      }
    },
    {
      "cell_type": "code",
      "source": [
        "# Python3 program to multiply all values in the\n",
        "# list using numpy.prod()\n",
        "\n",
        "import numpy\n",
        "list1 = [1, 2, 3]\n",
        "list2 = [3, 2, 4]\n",
        "\n",
        "# using numpy.prod() to get the multiplications\n",
        "result1 = numpy.prod(list1)\n",
        "result2 = numpy.prod(list2)\n",
        "print(result1)\n",
        "print(result2)\n"
      ],
      "metadata": {
        "id": "odKlAklGwDaC"
      },
      "execution_count": null,
      "outputs": []
    },
    {
      "cell_type": "code",
      "source": [
        "# Python program to multiply all values in the\n",
        "# list using traversal\n",
        "\n",
        "\n",
        "def multiplyList(myList):\n",
        "\n",
        "\t# Multiply elements one by one\n",
        "\tresult = 1\n",
        "\tfor x in myList:\n",
        "\t\tresult = result * x\n",
        "\treturn result\n",
        "\n",
        "\n",
        "# Driver code\n",
        "list1 = [1, 2, 3]\n",
        "list2 = [3, 2, 4]\n",
        "print(multiplyList(list1))\n",
        "print(multiplyList(list2))\n"
      ],
      "metadata": {
        "colab": {
          "base_uri": "https://localhost:8080/"
        },
        "id": "ds-YtlvNeCF2",
        "outputId": "c0142734-af7c-41e6-d0c4-c20e70093393"
      },
      "execution_count": null,
      "outputs": [
        {
          "output_type": "stream",
          "name": "stdout",
          "text": [
            "6\n",
            "24\n"
          ]
        }
      ]
    },
    {
      "cell_type": "code",
      "source": [
        "# Python3 program to multiply all values in the\n",
        "# list using lambda function and reduce()\n",
        "\n",
        "from functools import reduce\n",
        "list1 = [1, 2, 3]\n",
        "list2 = [3, 2, 4]\n",
        "\n",
        "\n",
        "result1 = reduce((lambda x, y: x * y), list1)\n",
        "result2 = reduce((lambda x, y: x * y), list2)\n",
        "print(result1)\n",
        "print(result2)\n"
      ],
      "metadata": {
        "colab": {
          "base_uri": "https://localhost:8080/"
        },
        "id": "PRG5lY72eEes",
        "outputId": "e6ecca23-2cf6-4391-b86a-976e4b30a607"
      },
      "execution_count": null,
      "outputs": [
        {
          "output_type": "stream",
          "name": "stdout",
          "text": [
            "6\n",
            "24\n"
          ]
        }
      ]
    },
    {
      "cell_type": "markdown",
      "source": [
        "37. Write a Python program to reverse the order of words in a sentence while preserving the\n",
        "word order.\n"
      ],
      "metadata": {
        "id": "yWIEwA3_wD9t"
      }
    },
    {
      "cell_type": "code",
      "source": [
        "# Python code to Reverse each word\n",
        "# of a Sentence individually\n",
        "\n",
        "# Function to Reverse words\n",
        "def reverseWordSentence(Sentence):\n",
        "\n",
        "\t# All in One line\n",
        "\treturn ' '.join(word[::-1] for word in Sentence.split(\" \"))\n",
        "\n",
        "# Driver's Code\n",
        "Sentence = \"pwskills pwskills\"\n",
        "print(reverseWordSentence(Sentence))\n"
      ],
      "metadata": {
        "id": "x9uzhHvKwGUI",
        "colab": {
          "base_uri": "https://localhost:8080/"
        },
        "outputId": "555cd3f9-7909-4ec1-a0c5-fd2da0cf776b"
      },
      "execution_count": null,
      "outputs": [
        {
          "output_type": "stream",
          "name": "stdout",
          "text": [
            "sllikswp sllikswp\n"
          ]
        }
      ]
    },
    {
      "cell_type": "code",
      "source": [
        "def reverse_words(sentence):\n",
        "\twords = sentence.split()\n",
        "\treversed_words = list(map(lambda x: x[::-1], words))\n",
        "\treturn ' '.join(reversed_words)\n",
        "sentence = \"data science batch pwskills\"\n",
        "print(reverse_words(sentence))\n"
      ],
      "metadata": {
        "id": "fr60xgAUwG7f",
        "colab": {
          "base_uri": "https://localhost:8080/"
        },
        "outputId": "8cc526a5-6efc-433d-decb-b2f8c24b0076"
      },
      "execution_count": null,
      "outputs": [
        {
          "output_type": "stream",
          "name": "stdout",
          "text": [
            "atad ecneics hctab sllikswp\n"
          ]
        }
      ]
    },
    {
      "cell_type": "code",
      "source": [],
      "metadata": {
        "id": "UTSoY-u3e2EN"
      },
      "execution_count": null,
      "outputs": []
    },
    {
      "cell_type": "markdown",
      "source": [
        "38. Implement a function to find the missing number in a given list of consecutive numbers.\n"
      ],
      "metadata": {
        "id": "6YzwivK8wHL_"
      }
    },
    {
      "cell_type": "code",
      "source": [
        "# Find the missing number in a given list\n",
        "def getMissingNumber(arr):\n",
        "\n",
        "    # get the array's length\n",
        "    n = len(arr)\n",
        "\n",
        "    # actual size is `n+1` since a number is missing from the list\n",
        "    m = n + 1\n",
        "\n",
        "    # get a sum of integers between 1 and `n+1`\n",
        "    total = m * (m + 1) // 2\n",
        "\n",
        "    # the missing number is the difference between the expected sum and\n",
        "    # the actual sum of integers in the list\n",
        "    return total - sum(arr)\n",
        "\n",
        "\n",
        "if __name__ == '__main__':\n",
        "\n",
        "    arr = [1, 2, 3, 4, 5, 7, 8, 9, 10]\n",
        "\n",
        "    print('The missing number is', getMissingNumber(arr))\n"
      ],
      "metadata": {
        "id": "dduJix_8wKFx",
        "colab": {
          "base_uri": "https://localhost:8080/"
        },
        "outputId": "7f9601c4-6d06-4e88-e659-9908e7c6a188"
      },
      "execution_count": null,
      "outputs": [
        {
          "output_type": "stream",
          "name": "stdout",
          "text": [
            "The missing number is 6\n"
          ]
        }
      ]
    },
    {
      "cell_type": "markdown",
      "source": [
        "39. Write a program to find the sum of digits of a given number."
      ],
      "metadata": {
        "id": "neUbNF81wKXl"
      }
    },
    {
      "cell_type": "code",
      "source": [
        "# Python program to\n",
        "# compute sum of digits in\n",
        "# number.\n",
        "\n",
        "# Function to get sum of digits\n",
        "def getSum(n):\n",
        "  sum = 0\n",
        "  for digit in str(n):\n",
        "    sum += int(digit)\n",
        "  return sum\n",
        "\n",
        "n = 12345\n",
        "print(getSum(n))\n"
      ],
      "metadata": {
        "id": "crc4J_h5wLZ1",
        "colab": {
          "base_uri": "https://localhost:8080/"
        },
        "outputId": "e5e70ccb-9998-4bd0-8986-9336f76289ae"
      },
      "execution_count": null,
      "outputs": [
        {
          "output_type": "stream",
          "name": "stdout",
          "text": [
            "15\n"
          ]
        }
      ]
    },
    {
      "cell_type": "code",
      "source": [
        "# Python 3 program to\n",
        "# compute sum of digits in\n",
        "# number.\n",
        "\n",
        "# Function to get sum of digits\n",
        "def getSum(n):\n",
        "\n",
        "\tsum = 0\n",
        "\twhile (n != 0):\n",
        "\n",
        "\t\tsum = sum + (n % 10)\n",
        "\t\tn = n//10\n",
        "\n",
        "\treturn sum\n",
        "\n",
        "n = 12345\n",
        "print(getSum(n))\n"
      ],
      "metadata": {
        "id": "18Pt4NrnwN96",
        "colab": {
          "base_uri": "https://localhost:8080/"
        },
        "outputId": "70b91de9-35f4-4770-bf38-069da8445802"
      },
      "execution_count": null,
      "outputs": [
        {
          "output_type": "stream",
          "name": "stdout",
          "text": [
            "15\n"
          ]
        }
      ]
    },
    {
      "cell_type": "markdown",
      "source": [
        "40. Implement a function to check if a given string is a valid palindrome considering case\n",
        "sensitivity."
      ],
      "metadata": {
        "id": "-oyu021EwOW9"
      }
    },
    {
      "cell_type": "code",
      "source": [
        "# Program to check if a string is palindrome or not\n",
        "\n",
        "my_str = 'aIbohPhoBiA'\n",
        "\n",
        "# make it suitable for caseless comparison\n",
        "my_str = my_str.casefold()\n",
        "\n",
        "# reverse the string\n",
        "rev_str = reversed(my_str)\n",
        "\n",
        "# check if the string is equal to its reverse\n",
        "if list(my_str) == list(rev_str):\n",
        "   print(\"The string is a palindrome.\")\n",
        "else:\n",
        "   print(\"The string is not a palindrome.\")"
      ],
      "metadata": {
        "id": "jywDLHQFwRry",
        "colab": {
          "base_uri": "https://localhost:8080/"
        },
        "outputId": "502fe166-1381-44db-b943-6bd47f1fb815"
      },
      "execution_count": null,
      "outputs": [
        {
          "output_type": "stream",
          "name": "stdout",
          "text": [
            "The string is a palindrome.\n"
          ]
        }
      ]
    },
    {
      "cell_type": "code",
      "source": [],
      "metadata": {
        "id": "NgHMqqjlwUdK"
      },
      "execution_count": null,
      "outputs": []
    },
    {
      "cell_type": "markdown",
      "source": [
        "41. Write a Python program to find the smallest missing positive integer in a list.\n"
      ],
      "metadata": {
        "id": "-qoST_ldwUtA"
      }
    },
    {
      "cell_type": "code",
      "source": [
        "\n",
        "# Function to find the smallest missing positive number from an unsorted array\n",
        "def findSmallestMissing(nums):\n",
        "\n",
        "    # initialize the set from array elements\n",
        "    distinct = {*nums}\n",
        "\n",
        "    # return first smallest missing positive number from the set\n",
        "    index = 1\n",
        "    while True:\n",
        "        if index not in distinct:\n",
        "            return index\n",
        "        index += 1\n",
        "\n",
        "\n",
        "if __name__ == '__main__':\n",
        "\n",
        "    nums = [1, 4, 2, -1, 6, 5]\n",
        "    print('The smallest missing positive number from the array is',\n",
        "        findSmallestMissing(nums))\n"
      ],
      "metadata": {
        "id": "Ci_YGtPgwWnK",
        "colab": {
          "base_uri": "https://localhost:8080/"
        },
        "outputId": "747ac94c-903b-40de-d82d-304436b36afd"
      },
      "execution_count": null,
      "outputs": [
        {
          "output_type": "stream",
          "name": "stdout",
          "text": [
            "The smallest missing positive number from the array is 3\n"
          ]
        }
      ]
    },
    {
      "cell_type": "code",
      "source": [],
      "metadata": {
        "id": "wMfOqniuwXP5"
      },
      "execution_count": null,
      "outputs": []
    },
    {
      "cell_type": "markdown",
      "source": [
        "42. Implement a function to find the longest palindrome substring in a given string.\n"
      ],
      "metadata": {
        "id": "PY-9HRg3wXfP"
      }
    },
    {
      "cell_type": "code",
      "source": [],
      "metadata": {
        "id": "LDzjav85mxLJ"
      },
      "execution_count": null,
      "outputs": []
    },
    {
      "cell_type": "code",
      "source": [],
      "metadata": {
        "id": "KnlztKvTmxQ5"
      },
      "execution_count": null,
      "outputs": []
    },
    {
      "cell_type": "markdown",
      "source": [
        "43. Write a program to find the number of occurrences of a given element in a list.\n"
      ],
      "metadata": {
        "id": "Uj3TZeYOwan4"
      }
    },
    {
      "cell_type": "code",
      "source": [
        "import pandas as pd\n",
        "\n",
        "# declaring the list\n",
        "l = [1, 1, 2, 2, 2, 3, 3, 4, 4, 5, 5]\n",
        "\n",
        "count = pd.Series(l).value_counts()\n",
        "print(\"Element Count\")\n",
        "print(count)\n"
      ],
      "metadata": {
        "id": "IX-ZsPQ2wdaw",
        "colab": {
          "base_uri": "https://localhost:8080/"
        },
        "outputId": "d56f8290-2014-4f68-b4ca-9a9ac5f6a6c1"
      },
      "execution_count": null,
      "outputs": [
        {
          "output_type": "stream",
          "name": "stdout",
          "text": [
            "Element Count\n",
            "2    3\n",
            "1    2\n",
            "3    2\n",
            "4    2\n",
            "5    2\n",
            "dtype: int64\n"
          ]
        }
      ]
    },
    {
      "cell_type": "code",
      "source": [
        "# Python code to count the number of occurrences\n",
        "def countX(lst, x):\n",
        "\treturn lst.count(x)\n",
        "\n",
        "\n",
        "# Driver Code\n",
        "lst = [8, 6, 8, 10, 8, 20, 10, 8, 8]\n",
        "x = 8\n",
        "print('{} has occurred {} times'.format(x,\n",
        "\t\t\t\t\t\t\t\t\t\tcountX(lst, x)))\n"
      ],
      "metadata": {
        "colab": {
          "base_uri": "https://localhost:8080/"
        },
        "id": "1qkJ8zAdnI4p",
        "outputId": "da015f4d-bb37-4476-fe34-58dc6d7ad5dd"
      },
      "execution_count": null,
      "outputs": [
        {
          "output_type": "stream",
          "name": "stdout",
          "text": [
            "8 has occurred 5 times\n"
          ]
        }
      ]
    },
    {
      "cell_type": "code",
      "source": [],
      "metadata": {
        "id": "iPXuPrZ9nZ5a"
      },
      "execution_count": null,
      "outputs": []
    },
    {
      "cell_type": "markdown",
      "source": [
        "44. Implement a function to check if a given number is a perfect number.\n"
      ],
      "metadata": {
        "id": "6Kppu-Uvwd-m"
      }
    },
    {
      "cell_type": "code",
      "source": [
        "n = int(input(\"Enter any number: \"))\n",
        "sum1 = 0\n",
        "for i in range(1, n):\n",
        "    if(n % i == 0):\n",
        "        sum1 = sum1 + i\n",
        "if (sum1 == n):\n",
        "    print(\"The number is a Perfect number!\")\n",
        "else:\n",
        "    print(\"The number is not a Perfect number!\")"
      ],
      "metadata": {
        "id": "1Pn08JIEwgTT",
        "colab": {
          "base_uri": "https://localhost:8080/"
        },
        "outputId": "76893e17-fdb0-436d-d9ba-e233b1eb5919"
      },
      "execution_count": null,
      "outputs": [
        {
          "output_type": "stream",
          "name": "stdout",
          "text": [
            "Enter any number: 5\n",
            "The number is not a Perfect number!\n"
          ]
        }
      ]
    },
    {
      "cell_type": "code",
      "source": [],
      "metadata": {
        "id": "GcYGK8K-o4Sh"
      },
      "execution_count": null,
      "outputs": []
    },
    {
      "cell_type": "markdown",
      "source": [
        "45. Write a Python program to remove all duplicates from a string.\n"
      ],
      "metadata": {
        "id": "-fvMl9jbwgim"
      }
    },
    {
      "cell_type": "code",
      "source": [
        "# Python program to remove duplicate character\n",
        "# from character array and print in sorted\n",
        "# order\n",
        "def removeDuplicate(str, n):\n",
        "\ts = set()\n",
        "\n",
        "\t# Create a set using String characters\n",
        "\tfor i in str:\n",
        "\t\ts.add(i)\n",
        "\n",
        "\t# Print content of the set\n",
        "\tst = \"\"\n",
        "\tfor i in s:\n",
        "\t\tst = st+i\n",
        "\treturn st\n",
        "\n",
        "\n",
        "# Driver code\n",
        "str = \"geeksforgeeks\"\n",
        "n = len(str)\n",
        "print(removeDuplicate(list(str), n))\n",
        "\n",
        "# This code is contributed by rajsanghavi9.\n"
      ],
      "metadata": {
        "id": "FGIPXRzawjsV",
        "colab": {
          "base_uri": "https://localhost:8080/"
        },
        "outputId": "dc2684b5-aa68-403d-8f56-89415ebfe0ed"
      },
      "execution_count": null,
      "outputs": [
        {
          "output_type": "stream",
          "name": "stdout",
          "text": [
            "gfkeors\n"
          ]
        }
      ]
    },
    {
      "cell_type": "code",
      "source": [],
      "metadata": {
        "id": "N70FJls7wkNn"
      },
      "execution_count": null,
      "outputs": []
    },
    {
      "cell_type": "markdown",
      "source": [
        "46. Implement a function to find the first missing positive."
      ],
      "metadata": {
        "id": "YgNFnKTAwkZf"
      }
    },
    {
      "cell_type": "code",
      "source": [
        "def first_missing_positive(number_list):\n",
        "    number_set = set(number_list)\n",
        "    for n in range(1, len(number_list) + 1):\n",
        "        if n not in number_set:\n",
        "            return n\n",
        "    return None\n",
        "\n",
        "print(first_missing_positive([7, 6, 5, 3, 2, 1, 8]))"
      ],
      "metadata": {
        "colab": {
          "base_uri": "https://localhost:8080/"
        },
        "id": "m-lwD3IM9uBy",
        "outputId": "40078edb-5ec4-42a3-a83e-1ee654dcd07a"
      },
      "execution_count": 3,
      "outputs": [
        {
          "output_type": "stream",
          "name": "stdout",
          "text": [
            "4\n"
          ]
        }
      ]
    }
  ]
}